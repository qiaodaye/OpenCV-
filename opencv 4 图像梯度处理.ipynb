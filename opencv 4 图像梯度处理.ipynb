{
 "cells": [
  {
   "cell_type": "markdown",
   "metadata": {},
   "source": [
    "### 图像梯度-Sobel算子"
   ]
  },
  {
   "cell_type": "code",
   "execution_count": null,
   "metadata": {},
   "outputs": [],
   "source": [
    "img = cv2.imread('img')"
   ]
  },
  {
   "cell_type": "markdown",
   "metadata": {},
   "source": [
    "`dst = cv2.Sobel(img,ddepth,dx,dy,ksize)`\n",
    "- ddepth:图像的深度\n",
    "- dx dy分别表示水平和竖直的方向\n",
    "- ksize是sobel算子的大小\n",
    "\n",
    "\n",
    "sobel算子是右边减去左边 目的是检测出图像的边缘"
   ]
  },
  {
   "cell_type": "code",
   "execution_count": null,
   "metadata": {},
   "outputs": [],
   "source": [
    "sobelx = cv2.Sobel(img,cv2.CV_64F,1,0,ksize = 3) #核函数为3*3 现在算出的水平的情况\n",
    "cv2.imshow(sobelx)"
   ]
  },
  {
   "cell_type": "markdown",
   "metadata": {},
   "source": [
    "因为是右边减去左边，会存在剪出的结果为负数的情况，为负数的时候图像进行显示的时候默认为0 所以在显示的时候只能显示出一边的情况"
   ]
  },
  {
   "cell_type": "code",
   "execution_count": null,
   "metadata": {},
   "outputs": [],
   "source": [
    "sobelx = cv2.converScaleAbs(sobelx) #该函数可以算出绝对值 把负号去掉\n",
    "cv2.imshow(sobelx)\n"
   ]
  },
  {
   "cell_type": "markdown",
   "metadata": {},
   "source": [
    "分别算x和y的方向 并相加 "
   ]
  },
  {
   "cell_type": "code",
   "execution_count": null,
   "metadata": {},
   "outputs": [],
   "source": [
    "sobely = cv2.Sobel(img,cv2.CV_64F,0,1,ksize = 3)\n",
    "cv2.imshow(sobely)"
   ]
  },
  {
   "cell_type": "code",
   "execution_count": null,
   "metadata": {},
   "outputs": [],
   "source": [
    "sobelxy = cv2.addWeighted(sobelx,0.5,sobely,0.5,0) #x 和 y相加 并分别赋予0.5 的权重  最后一个是偏执项置为0"
   ]
  },
  {
   "cell_type": "markdown",
   "metadata": {},
   "source": [
    "不建议直接算x,y 反向 最好还是分开做 最后再求和"
   ]
  },
  {
   "cell_type": "markdown",
   "metadata": {},
   "source": [
    "### 图像梯度-Scharr算子"
   ]
  },
  {
   "cell_type": "markdown",
   "metadata": {},
   "source": [
    "- Scharr算子和sobel算子的不同是他的值的不同 sobel算子是-1、1、-2、2、-1、1 \n",
    "- 但是Scharr算子的各项为-3、3、-10、10、-3、3"
   ]
  },
  {
   "cell_type": "markdown",
   "metadata": {},
   "source": [
    "#### 图像梯度-laplacian\n",
    "\n",
    "- 一般算子的中间项为0 但是这个为4\n",
    "- 各项 0、1、0、1、4、1、0、1、0\n",
    "- 对噪音点特别敏感"
   ]
  },
  {
   "cell_type": "code",
   "execution_count": null,
   "metadata": {},
   "outputs": [],
   "source": [
    "scharrx = cv2.Scharr(img,cv2.CV_64F,1,0)\n",
    "scharry = cv2.Scharr(img,cv2.CV_64F,0,1)\n",
    "\n",
    "laplacian = cv2.Laplacian(img,cv2.CV_64F)\n",
    "laplacian = cv2.converScaleAbs(laplacian)"
   ]
  }
 ],
 "metadata": {
  "kernelspec": {
   "display_name": "Python [conda env:root] *",
   "language": "python",
   "name": "conda-root-py"
  },
  "language_info": {
   "codemirror_mode": {
    "name": "ipython",
    "version": 3
   },
   "file_extension": ".py",
   "mimetype": "text/x-python",
   "name": "python",
   "nbconvert_exporter": "python",
   "pygments_lexer": "ipython3",
   "version": "3.7.3"
  }
 },
 "nbformat": 4,
 "nbformat_minor": 2
}
