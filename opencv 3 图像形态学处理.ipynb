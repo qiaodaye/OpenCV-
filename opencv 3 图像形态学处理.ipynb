{
 "cells": [
  {
   "cell_type": "code",
   "execution_count": null,
   "metadata": {},
   "outputs": [],
   "source": [
    "import cv2\n",
    "import numpy as np\n",
    "import matplotlib.pyplot as plt\n",
    "%matplotlib inline #相当于展示的更加方便 不用再show出来了"
   ]
  },
  {
   "cell_type": "markdown",
   "metadata": {},
   "source": [
    "### 腐蚀操作"
   ]
  },
  {
   "cell_type": "code",
   "execution_count": null,
   "metadata": {},
   "outputs": [],
   "source": [
    "img = cv2.imread('img')\n",
    "\n",
    "kernel = np.ones((5,5),np.uint8)\n",
    "erosion = cv2.erode(img,kernel,iterations = 1)\n"
   ]
  },
  {
   "cell_type": "markdown",
   "metadata": {},
   "source": [
    "```kernel``` 是规定卷积核的大小，卷积核越大也就是腐蚀的范围越大\n",
    "\n",
    "\n",
    "\n",
    "`cv2.erode()` 第一个参数为输入的图片，一般是二值图，也就是不是黑的就是白的， kernel为卷积核 iteration 也就是迭代次数 次数越多 腐蚀效果月明显"
   ]
  },
  {
   "cell_type": "markdown",
   "metadata": {},
   "source": [
    "### 膨胀操作"
   ]
  },
  {
   "cell_type": "markdown",
   "metadata": {},
   "source": [
    "膨胀操作是腐蚀的逆运算\n",
    "\n",
    "\n",
    "对每个卷积核中发现白色后，把全部卷积核都改变为白色"
   ]
  },
  {
   "cell_type": "code",
   "execution_count": null,
   "metadata": {},
   "outputs": [],
   "source": [
    "cv2.dilate(img,kernel,iterations = n)"
   ]
  },
  {
   "cell_type": "markdown",
   "metadata": {},
   "source": [
    "img  是输入的图片\n",
    "\n",
    "kernel 是卷积核大小\n",
    "\n",
    "iterations  是迭代的次数\n",
    "\n"
   ]
  },
  {
   "cell_type": "markdown",
   "metadata": {},
   "source": [
    "### 开运算和闭运算"
   ]
  },
  {
   "cell_type": "markdown",
   "metadata": {},
   "source": [
    "开运算：先腐蚀，再膨胀\n",
    "\n",
    "闭运算 ： 先膨胀，再腐蚀"
   ]
  },
  {
   "cell_type": "code",
   "execution_count": null,
   "metadata": {},
   "outputs": [],
   "source": [
    "# 开运算：先腐蚀 再膨胀\n",
    "img = cv2.imread('img')\n",
    "\n",
    "kernal = np.ones((5,5),np.uint8)\n",
    "opening = cv2.morphologyEx(img,cv2.MORPH_OPEN,kernal) #开运算的是 MORPH_OPEN \n",
    "\n",
    "closing = cv2.morphologyEx(img,cv2.MORPG_CLOSE,kernal) #闭运算   MORPH_CLOSE\n"
   ]
  },
  {
   "cell_type": "markdown",
   "metadata": {},
   "source": [
    "### 梯度运算"
   ]
  },
  {
   "cell_type": "code",
   "execution_count": null,
   "metadata": {},
   "outputs": [],
   "source": [
    "# 梯度= 膨胀-腐蚀\n",
    "pie = cv2.imread('img')\n",
    "kernal = np.ones((7,7),np.uint8)\n",
    "\n",
    "gradient = cv2.morphologyEx(pie,cv2.MORPH_GRADIENT,kernel) # cv2.MORPH_GRSDIENT 就是可以对图片做梯度运算\n",
    "\n",
    "plt.imshow(gradient)"
   ]
  },
  {
   "cell_type": "markdown",
   "metadata": {},
   "source": [
    "### 礼帽与黑帽"
   ]
  },
  {
   "cell_type": "markdown",
   "metadata": {},
   "source": [
    "- 礼帽 = 原始输入- 开运算结果\n",
    "- 黑帽 = 闭运算 - 原始输入\n"
   ]
  },
  {
   "cell_type": "code",
   "execution_count": null,
   "metadata": {},
   "outputs": [],
   "source": [
    "img = cv2.imread('img')\n",
    "tophat = cv2.morphologyEx(img,cv2.MORPH_TOPHAT,kernel)\n",
    "# 礼帽"
   ]
  },
  {
   "cell_type": "code",
   "execution_count": null,
   "metadata": {},
   "outputs": [],
   "source": [
    "blackhat = cv2.morphologyEx(img,cv2.MORPH_BLACKHAT,kernel)"
   ]
  }
 ],
 "metadata": {
  "kernelspec": {
   "display_name": "Python [conda env:root] *",
   "language": "python",
   "name": "conda-root-py"
  },
  "language_info": {
   "codemirror_mode": {
    "name": "ipython",
    "version": 3
   },
   "file_extension": ".py",
   "mimetype": "text/x-python",
   "name": "python",
   "nbconvert_exporter": "python",
   "pygments_lexer": "ipython3",
   "version": "3.7.3"
  }
 },
 "nbformat": 4,
 "nbformat_minor": 2
}
